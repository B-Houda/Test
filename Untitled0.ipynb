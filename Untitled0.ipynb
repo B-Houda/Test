{
  "nbformat": 4,
  "nbformat_minor": 0,
  "metadata": {
    "colab": {
      "name": "Untitled0.ipynb",
      "provenance": [],
      "collapsed_sections": [],
      "include_colab_link": true
    },
    "kernelspec": {
      "name": "python3",
      "display_name": "Python 3"
    }
  },
  "cells": [
    {
      "cell_type": "markdown",
      "metadata": {
        "id": "view-in-github",
        "colab_type": "text"
      },
      "source": [
        "<a href=\"https://colab.research.google.com/github/B-Houda/Test/blob/master/Untitled0.ipynb\" target=\"_parent\"><img src=\"https://colab.research.google.com/assets/colab-badge.svg\" alt=\"Open In Colab\"/></a>"
      ]
    },
    {
      "cell_type": "code",
      "metadata": {
        "id": "dyJFCgA76S_Q",
        "colab_type": "code",
        "colab": {}
      },
      "source": [
        "#this is my first comment\n",
        "#this my second line comment"
      ],
      "execution_count": null,
      "outputs": []
    },
    {
      "cell_type": "code",
      "metadata": {
        "id": "koHuX3JM8VUV",
        "colab_type": "code",
        "colab": {}
      },
      "source": [
        "name1 = \"anything\" # is right into left # with a single quote\n",
        "name2 = 'anything' #with one quote\n",
        "name3 = \"\"\"\n",
        "this is\n",
        "a multiple line\n",
        "string\n",
        "\"\"\""
      ],
      "execution_count": null,
      "outputs": []
    },
    {
      "cell_type": "code",
      "metadata": {
        "id": "SJblgQqS83AF",
        "colab_type": "code",
        "colab": {}
      },
      "source": [
        "?print()"
      ],
      "execution_count": null,
      "outputs": []
    },
    {
      "cell_type": "code",
      "metadata": {
        "id": "SEVlMgo19STL",
        "colab_type": "code",
        "colab": {
          "base_uri": "https://localhost:8080/",
          "height": 85
        },
        "outputId": "b01c179c-3be6-4c9b-8a13-fb71740facf3"
      },
      "source": [
        "print(name1) #print a single variable\n",
        "print(name1, name2) #print a multiple variable\n",
        "print(name1, name2, sep=\":\") #print with a different separator\n",
        "print(\"this is my first name\", name1) # print text with variable"
      ],
      "execution_count": null,
      "outputs": [
        {
          "output_type": "stream",
          "text": [
            "anything\n",
            "anything anything\n",
            "anything:anything\n",
            "this is my first name anything\n"
          ],
          "name": "stdout"
        }
      ]
    },
    {
      "cell_type": "code",
      "metadata": {
        "id": "Dera1RJH9zeW",
        "colab_type": "code",
        "colab": {
          "base_uri": "https://localhost:8080/",
          "height": 102
        },
        "outputId": "e6789caa-1ba2-4cb2-d7b8-ab864071f97e"
      },
      "source": [
        "#in python datatypes are dynamic \n",
        "var1 = 12 \n",
        "?type()\n",
        "type(var1)\n",
        "print(\"the type of var1 is\", type(var1)) #everything is python is an object\n",
        "print(\"the type of name1 is \", type(name1)) #<class 'str'> is a string\n",
        "\n",
        "float1 = 123.234\n",
        "type(float1)\n",
        "\n",
        "int2 = -21\n",
        "print(\"the type of int 2 is\" , type(int2)) #negative variables\n",
        "\n",
        "#bool1 = true #name 'true' is not defined, when you write any string without any\n",
        "#quotes, python will search for it as if it was declared before.\n",
        "bool1 = True\n",
        "print(type(bool1))\n",
        "bool2 = False\n",
        "print(type(bool2))\n"
      ],
      "execution_count": null,
      "outputs": [
        {
          "output_type": "stream",
          "text": [
            "the type of var1 is <class 'int'>\n",
            "the type of name1 is  <class 'str'>\n",
            "the type of int 2 is <class 'int'>\n",
            "<class 'bool'>\n",
            "<class 'bool'>\n"
          ],
          "name": "stdout"
        }
      ]
    },
    {
      "cell_type": "code",
      "metadata": {
        "id": "KMahQNbi_wax",
        "colab_type": "code",
        "colab": {
          "base_uri": "https://localhost:8080/",
          "height": 51
        },
        "outputId": "63cbbf3c-832b-46b3-f1a0-56f43457cc53"
      },
      "source": [
        "#\"\"\" \"\"\": first purpose for multiple line string, and the second for :DocsString:\n",
        "##### there is only ONE COMMENT LINE IN PYTHON\n",
        "#COMMENT in python can start from the begining of the line and also from the middle\n",
        "print(\"it will only write me\") #blablabla\n",
        "print(\"# it will write me also\") #python will not see it as a comment as it is inside \"\""
      ],
      "execution_count": null,
      "outputs": [
        {
          "output_type": "stream",
          "text": [
            "it will only write me\n",
            "# it will write me also\n"
          ],
          "name": "stdout"
        }
      ]
    },
    {
      "cell_type": "code",
      "metadata": {
        "id": "jXwVwT3cAuzk",
        "colab_type": "code",
        "colab": {
          "base_uri": "https://localhost:8080/",
          "height": 85
        },
        "outputId": "f4182e3d-b76f-4435-aedb-0f5b50f7c144"
      },
      "source": [
        "print(2 + 2, end=\"...\") #the end will only afect the current print with the second one\n",
        "print(2*3) #the defautl end is \"/n\" : new line\n",
        "print(\"it will write me after a new line\")\n",
        "\n",
        "50 - 5*6 #python will run 5*6 in the first step and then will execute 50 - the result of 5*6\n",
        "# * then / then + then -\n",
        "\n",
        "print(5+3-12*100/30) #(12*100)= r1 then r1/30 = r2 then 5+3 - r2\n",
        "r1 = 12 *100\n",
        "r2 = r1/30\n",
        "print(5+3-r2) "
      ],
      "execution_count": null,
      "outputs": [
        {
          "output_type": "stream",
          "text": [
            "4...6\n",
            "it will write me after a new line\n",
            "-32.0\n",
            "-32.0\n"
          ],
          "name": "stdout"
        }
      ]
    },
    {
      "cell_type": "code",
      "metadata": {
        "id": "B_SDXyQsCDi1",
        "colab_type": "code",
        "colab": {
          "base_uri": "https://localhost:8080/",
          "height": 85
        },
        "outputId": "44ca2abf-3260-44f2-cb9e-1d0677c17c8b"
      },
      "source": [
        "print(8/5) # / will give you a floating number, simple division (/)\n",
        "print(8 // 5) # this will give you an int number, Floor division (//)\n",
        "\n",
        "print(8 % 5) #this will give us the REST 8 - (8//5)*5\n",
        "print(8 - ((8 // 5)*5))"
      ],
      "execution_count": null,
      "outputs": [
        {
          "output_type": "stream",
          "text": [
            "1.6\n",
            "1\n",
            "3\n",
            "3\n"
          ],
          "name": "stdout"
        }
      ]
    },
    {
      "cell_type": "code",
      "metadata": {
        "id": "Y5QbluXDDVZi",
        "colab_type": "code",
        "colab": {
          "base_uri": "https://localhost:8080/",
          "height": 51
        },
        "outputId": "558ac44d-40c2-4d04-c832-07a3e5cc813b"
      },
      "source": [
        "print(2 ** 4) \n",
        "print(4 ** 2) # if you don't use the print function, python will only output your\n",
        "#last instruction\n",
        "\n",
        "#a ** b = b ** a\n"
      ],
      "execution_count": null,
      "outputs": [
        {
          "output_type": "stream",
          "text": [
            "16\n",
            "16\n"
          ],
          "name": "stdout"
        }
      ]
    },
    {
      "cell_type": "code",
      "metadata": {
        "id": "DyzQn5pCD8bE",
        "colab_type": "code",
        "colab": {
          "base_uri": "https://localhost:8080/",
          "height": 68
        },
        "outputId": "a3ec7d33-7fee-4b6f-c25c-a7562d1663cd"
      },
      "source": [
        "var1 = \"anything\" # assign the right part into the left part\n",
        "print(var1)\n",
        "#print(anything)\n",
        "\n",
        "var3 = 12*12 # = \"assign\" will only give it the result of the right part function\n",
        "print(var3)\n",
        "\n",
        "print(var1, var3) #print string with Numbers "
      ],
      "execution_count": null,
      "outputs": [
        {
          "output_type": "stream",
          "text": [
            "anything\n",
            "144\n",
            "anything 144\n"
          ],
          "name": "stdout"
        }
      ]
    },
    {
      "cell_type": "code",
      "metadata": {
        "id": "wLku6Sd8ExSf",
        "colab_type": "code",
        "colab": {
          "base_uri": "https://localhost:8080/",
          "height": 102
        },
        "outputId": "0e813d80-5142-4b89-90a7-460b3da500d7"
      },
      "source": [
        "#int any operator float = a float number, it will make an automatic conversion\n",
        "\n",
        "print(12 * 1.0) # it will give you a floating number\n",
        "print(int(12*1.0)) #this will give a an int number\n",
        "#all the datatypes in python have their own conversion function\n",
        "print(\"var1 type is\", type(12))\n",
        "var1 = str(12)\n",
        "print(\"var1 type is \",type(var1))\n",
        "\n",
        "print(float(12)) #str, int and float can be used as a conversion functions"
      ],
      "execution_count": null,
      "outputs": [
        {
          "output_type": "stream",
          "text": [
            "12.0\n",
            "12\n",
            "var1 type is <class 'int'>\n",
            "var1 type is  <class 'str'>\n",
            "12.0\n"
          ],
          "name": "stdout"
        }
      ]
    },
    {
      "cell_type": "code",
      "metadata": {
        "id": "CQu4gw-rFtW1",
        "colab_type": "code",
        "colab": {
          "base_uri": "https://localhost:8080/",
          "height": 34
        },
        "outputId": "18ca1e63-26a3-41de-f101-06cf75ad613b"
      },
      "source": [
        "1 * 12\n",
        "tax = _ #the input of the last printed INSTRUCTION\n",
        "print(tax)"
      ],
      "execution_count": null,
      "outputs": [
        {
          "output_type": "stream",
          "text": [
            "12\n"
          ],
          "name": "stdout"
        }
      ]
    },
    {
      "cell_type": "code",
      "metadata": {
        "id": "CwSP-zk3Gi5S",
        "colab_type": "code",
        "colab": {
          "base_uri": "https://localhost:8080/",
          "height": 119
        },
        "outputId": "702c6605-375d-417b-85f0-4d4271ef86e0"
      },
      "source": [
        "#print('l'ecole') #this will give us an error\n",
        "print('l\\'ecole') # \\ will force python to read a magic character as a simple character\n",
        "print(\"doesn't\") #the double quote will force python to accept the single quote\n",
        "\n",
        "print(\"\"\" \n",
        "this is our \"\"\n",
        "first python session\n",
        "\"\"\") #if you want to espace the double quote, you should write it inside three double quote"
      ],
      "execution_count": null,
      "outputs": [
        {
          "output_type": "stream",
          "text": [
            "l'ecole\n",
            "doesn't\n",
            " \n",
            "this is our \"\"\n",
            "first python session\n",
            "\n"
          ],
          "name": "stdout"
        }
      ]
    },
    {
      "cell_type": "code",
      "metadata": {
        "id": "mz1bQdq9Fl5O",
        "colab_type": "code",
        "colab": {
          "base_uri": "https://localhost:8080/",
          "height": 119
        },
        "outputId": "961db2be-24ef-4629-f3ae-b992b500492a"
      },
      "source": [
        "#print(\"this will not see me \\\" \") #print \" without any problem\n",
        "#special characters are escaped with backslashes\n",
        "print(\" this is the first line\")\n",
        "print(\"this is the second line\")\n",
        "print(\" this is the first line \\n  this is the second line\") # \\n is a special character for\n",
        "#a new line\n",
        "print(r\"this is the first line \\n this is the second line\")\n",
        "#we use the r: raw string, when we want to write a path\n",
        "print(\"this is \\\\n\") # the first \\ will ignore the second one\n",
        "\n"
      ],
      "execution_count": null,
      "outputs": [
        {
          "output_type": "stream",
          "text": [
            " this is the first line\n",
            "this is the second line\n",
            " this is the first line \n",
            "  this is the second line\n",
            "this is the first line \\n this is the second line\n",
            "this is \\n\n"
          ],
          "name": "stdout"
        }
      ]
    },
    {
      "cell_type": "code",
      "metadata": {
        "id": "QKmwA1XmJMeq",
        "colab_type": "code",
        "colab": {
          "base_uri": "https://localhost:8080/",
          "height": 85
        },
        "outputId": "e6f62923-b066-4428-ffd5-0e4e1074ef25"
      },
      "source": [
        "print(\"\"\"\\\n",
        "Usage: thingy [OPTIONS]\n",
        "     -h                        Display this usage message\n",
        "     -H hostname               Hostname to connect to\n",
        "\"\"\") # backslashe at the start will prevent a new line at the output"
      ],
      "execution_count": null,
      "outputs": [
        {
          "output_type": "stream",
          "text": [
            "Usage: thingy [OPTIONS]\n",
            "     -h                        Display this usage message\n",
            "     -H hostname               Hostname to connect to\n",
            "\n"
          ],
          "name": "stdout"
        }
      ]
    },
    {
      "cell_type": "code",
      "metadata": {
        "id": "xBAoOhdzEW_E",
        "colab_type": "code",
        "colab": {
          "base_uri": "https://localhost:8080/",
          "height": 34
        },
        "outputId": "733430d0-1989-40b0-d31c-ca22d895f978"
      },
      "source": [
        "\"write me 3 times\" * 3 #print it 3 times\n",
        "str1 = \"tekup\"\n",
        "str2 = \"laptop\"\n",
        "strResult = str1 + str2 #concatinate string with + operand\n",
        "print(strResult)"
      ],
      "execution_count": null,
      "outputs": [
        {
          "output_type": "stream",
          "text": [
            "tekuplaptop\n"
          ],
          "name": "stdout"
        }
      ]
    },
    {
      "cell_type": "code",
      "metadata": {
        "id": "FW0g7fyXJ-ai",
        "colab_type": "code",
        "colab": {
          "base_uri": "https://localhost:8080/",
          "height": 34
        },
        "outputId": "207b2ea6-f1b9-4d0f-f956-5d540f2ab258"
      },
      "source": [
        "\"tekup\" * 3 + \"laptop\" # with string the operand have the same value\n",
        "#* operand is Stronger than + operand"
      ],
      "execution_count": null,
      "outputs": [
        {
          "output_type": "execute_result",
          "data": {
            "text/plain": [
              "'tekuptekuptekuplaptop'"
            ]
          },
          "metadata": {
            "tags": []
          },
          "execution_count": 73
        }
      ]
    },
    {
      "cell_type": "code",
      "metadata": {
        "id": "IK7uVRr-Kart",
        "colab_type": "code",
        "colab": {
          "base_uri": "https://localhost:8080/",
          "height": 102
        },
        "outputId": "aec1b14d-e68e-4fa0-d1f4-374a00fde825"
      },
      "source": [
        "print(\"name1\", \"name2\")\n",
        "#what is the differece\n",
        "print(\"name1\" \"name2\") #two or more strings next to each other will be automatically concatinated\n",
        "print(\"name1\", \"name2\", sep=\" \")\n",
        "print('this is the first line \\n'\n",
        "'this is the next line')\n",
        "print()"
      ],
      "execution_count": null,
      "outputs": [
        {
          "output_type": "stream",
          "text": [
            "name1 name2\n",
            "name1name2\n",
            "name1 name2\n",
            "this is the first line \n",
            "this is the next line\n"
          ],
          "name": "stdout"
        }
      ]
    },
    {
      "cell_type": "code",
      "metadata": {
        "id": "FyVGNISvLeFc",
        "colab_type": "code",
        "colab": {
          "base_uri": "https://localhost:8080/",
          "height": 85
        },
        "outputId": "03319468-102c-4403-d1a2-4228688c7ad9"
      },
      "source": [
        "print(\"name one\")\n",
        "print() #an empty print function will write a new line\n",
        "print() #an empty print function will write a new line\n",
        "print(\"name two\")"
      ],
      "execution_count": null,
      "outputs": [
        {
          "output_type": "stream",
          "text": [
            "name one\n",
            "\n",
            "\n",
            "name two\n"
          ],
          "name": "stdout"
        }
      ]
    },
    {
      "cell_type": "code",
      "metadata": {
        "id": "Tt4UajKLLy2Z",
        "colab_type": "code",
        "colab": {
          "base_uri": "https://localhost:8080/",
          "height": 51
        },
        "outputId": "cfe98e0e-dcaf-4fa5-c9c6-881f0affc3f5"
      },
      "source": [
        "\"first str\" \"second str\" #this is the default output of python: there is no new line \n",
        "#after it\n",
        "str2 = \"simple text\"\n",
        "print(str2 + \"second str\")\n",
        "print(str2 , \"second str\") #+ operand will not write a space between two different\n",
        "#variable, but Comma will do"
      ],
      "execution_count": null,
      "outputs": [
        {
          "output_type": "stream",
          "text": [
            "simple textsecond str\n",
            "simple text second str\n"
          ],
          "name": "stdout"
        }
      ]
    },
    {
      "cell_type": "code",
      "metadata": {
        "id": "-VduFm7HMfYw",
        "colab_type": "code",
        "colab": {
          "base_uri": "https://localhost:8080/",
          "height": 51
        },
        "outputId": "9dc694da-3aab-4caa-c0a9-8b89569432a9"
      },
      "source": [
        "#string in python can be sliced as a LIST\n",
        "str2 = \"this is the first try\" #the first character with index OF 0, \n",
        "# the last character with index of len(str2) - 1\n",
        "print(str2[0])\n",
        "print(str2[len(str2)-1]) #the index of the last character"
      ],
      "execution_count": null,
      "outputs": [
        {
          "output_type": "stream",
          "text": [
            "t\n",
            "y\n"
          ],
          "name": "stdout"
        }
      ]
    },
    {
      "cell_type": "code",
      "metadata": {
        "id": "9orjm4btNOmC",
        "colab_type": "code",
        "colab": {
          "base_uri": "https://localhost:8080/",
          "height": 51
        },
        "outputId": "7d1d1460-328e-48b0-ef72-7bdd39c4057a"
      },
      "source": [
        "#when we count with postive numbers, the start will be 0 from the left\n",
        "#when we count with negative numbers, the start will be -1 from the right\n",
        "strTest = \"Python\" # with postive number: P=0, y=1, t=2, h=3, o=4, n=5\n",
        "#with negative number: n=-1, o=-2, h=-3, t=-4, y=-5, and P=-6\n",
        "\n",
        "print(strTest[2]) #Positive Index From left to right\n",
        "print(strTest[-4]) #Negative Index From right to left"
      ],
      "execution_count": null,
      "outputs": [
        {
          "output_type": "stream",
          "text": [
            "t\n",
            "t\n"
          ],
          "name": "stdout"
        }
      ]
    },
    {
      "cell_type": "code",
      "metadata": {
        "id": "BaRxa6tRN7Qx",
        "colab_type": "code",
        "colab": {
          "base_uri": "https://localhost:8080/",
          "height": 102
        },
        "outputId": "f606d767-821a-4a8b-e757-3bd7c6f4041e"
      },
      "source": [
        "listOfNumber = [1, 2, 3, 4] #1 has the index of 0, 2:1\n",
        "listOfString = [\"a\", \"b\", \"c\", \"d\"] #string List variable should be inside quotes\n",
        "print(listOfNumber)\n",
        "print(listOfString)\n",
        "listOfMultipleDataType = [1, \"a\", 2.5, [1,2,3]] #List of Lists\n",
        "print(listOfMultipleDataType)\n",
        "str1 = \"str\" * 3\n",
        "print(str1)\n",
        "listOfNumber[0]"
      ],
      "execution_count": null,
      "outputs": [
        {
          "output_type": "stream",
          "text": [
            "[1, 2, 3, 4]\n",
            "['a', 'b', 'c', 'd']\n",
            "[1, 'a', 2.5, [1, 2, 3]]\n",
            "strstrstr\n"
          ],
          "name": "stdout"
        },
        {
          "output_type": "execute_result",
          "data": {
            "text/plain": [
              "1"
            ]
          },
          "metadata": {
            "tags": []
          },
          "execution_count": 94
        }
      ]
    },
    {
      "cell_type": "code",
      "metadata": {
        "id": "mm6s1CZ7PW7b",
        "colab_type": "code",
        "colab": {
          "base_uri": "https://localhost:8080/",
          "height": 51
        },
        "outputId": "d8088226-7a02-488f-ab93-ef07accf20ea"
      },
      "source": [
        "list1 = [1,2,3,4,5]\n",
        "list2 = list1 * 2 #this will not give us [1*(2), 2*(2), 3*(2), 4*(2), 5(2)]\n",
        "print(list2)\n",
        "list3 = list1 + [1]\n",
        "print(list3)"
      ],
      "execution_count": null,
      "outputs": [
        {
          "output_type": "stream",
          "text": [
            "[1, 2, 3, 4, 5, 1, 2, 3, 4, 5]\n",
            "[1, 2, 3, 4, 5, 1]\n"
          ],
          "name": "stdout"
        }
      ]
    },
    {
      "cell_type": "code",
      "metadata": {
        "id": "kAiDFyRfQAR7",
        "colab_type": "code",
        "colab": {
          "base_uri": "https://localhost:8080/",
          "height": 136
        },
        "outputId": "ffe09bd8-46ba-4f2b-98f8-3fe7ba50a2ff"
      },
      "source": [
        "#[var1:var2:var3] var1: the start position, var2: the last position that will not be readen\n",
        "#var3: the step\n",
        "\n",
        "list1 = [1,2,3,4,5,6,7,8,9]\n",
        "print(list1[:]) #by default var1 = 0, var2= len(list), and var3 = 1\n",
        "print(list1[0:len(list1):1])\n",
        "\n",
        "print(list1[2:4]) #this should only write 2 variable list1[2] and list1[3]\n",
        "print(list1[2:3]) #this will only write list1[2]\n",
        "print(list1[::3]) #steps = 3\n",
        "print(list1[::-1]) #this will give us an inversed list\n",
        "print(list1[-1]) #it will give us the last variable included inside the list"
      ],
      "execution_count": null,
      "outputs": [
        {
          "output_type": "stream",
          "text": [
            "[1, 2, 3, 4, 5, 6, 7, 8, 9]\n",
            "[1, 2, 3, 4, 5, 6, 7, 8, 9]\n",
            "[3, 4]\n",
            "[3]\n",
            "[1, 4, 7]\n",
            "[9, 8, 7, 6, 5, 4, 3, 2, 1]\n",
            "9\n"
          ],
          "name": "stdout"
        }
      ]
    },
    {
      "cell_type": "code",
      "metadata": {
        "id": "JD76xGplRtjH",
        "colab_type": "code",
        "colab": {
          "base_uri": "https://localhost:8080/",
          "height": 34
        },
        "outputId": "f2f95cf2-2cb5-4843-a922-56273674f4cb"
      },
      "source": [
        "list1 = [1,2,3,4]\n",
        "#list1.append(1) #append function is the same as + operand and a list[]\n",
        "#append function will add a new variable at the end of the list\n",
        "#list2 = list1\n",
        "#list1.append(1) #append only accept one variable\n",
        "list3 = list1 + [1,2,3]\n",
        "print(list3)"
      ],
      "execution_count": null,
      "outputs": [
        {
          "output_type": "stream",
          "text": [
            "[1, 2, 3, 4, 1, 2, 3]\n"
          ],
          "name": "stdout"
        }
      ]
    },
    {
      "cell_type": "code",
      "metadata": {
        "id": "h6XInUIjS4yB",
        "colab_type": "code",
        "colab": {
          "base_uri": "https://localhost:8080/",
          "height": 51
        },
        "outputId": "3ce3ac03-a588-4d96-f63b-27122104296e"
      },
      "source": [
        "list1 = [1,2,3,4]\n",
        "list2 = [5,6,7,8]\n",
        "list1.extend(list2) #the right will be inside the left, it will concatinate two lists together\n",
        "list3 = [1,2,3,4]\n",
        "list4 = [5,6,7,8]\n",
        "list5 = list3 + list4\n",
        "print(list5)\n",
        "print(list1)"
      ],
      "execution_count": null,
      "outputs": [
        {
          "output_type": "stream",
          "text": [
            "[1, 2, 3, 4, 5, 6, 7, 8]\n",
            "[1, 2, 3, 4, 5, 6, 7, 8]\n"
          ],
          "name": "stdout"
        }
      ]
    },
    {
      "cell_type": "code",
      "metadata": {
        "id": "XUmIsBHRTX9d",
        "colab_type": "code",
        "colab": {
          "base_uri": "https://localhost:8080/",
          "height": 34
        },
        "outputId": "88edb9c2-8407-421a-e73c-73c6ed633314"
      },
      "source": [
        "list1 = [1,2,3,4]\n",
        "#list1.insert(1,5)\n",
        "#list1.append(5)\n",
        "list1.insert(len(list1), 5) # this is the same as list1.append(5)\n",
        "print(list1)\n"
      ],
      "execution_count": null,
      "outputs": [
        {
          "output_type": "stream",
          "text": [
            "[1, 2, 3, 4, 5]\n"
          ],
          "name": "stdout"
        }
      ]
    },
    {
      "cell_type": "code",
      "metadata": {
        "id": "RiYrB0WvUAOL",
        "colab_type": "code",
        "colab": {
          "base_uri": "https://localhost:8080/",
          "height": 34
        },
        "outputId": "712e3b7f-e8a3-4372-fa33-073df98f6a52"
      },
      "source": [
        "list1 = [1,2,3,4,5,6]\n",
        "list1.remove(2) # will not remove by the index, but it will remove by the value\n",
        "list3 = [12,34,5,65,12] # the equal sign\n",
        "var1 = 12 in list3 # this will return a BOOL variable with True if it's there or False if it's not\n",
        "if 20 in list3: #check if we have the value then remove it\n",
        "  list3.remove(20)\n",
        "print(list3)"
      ],
      "execution_count": null,
      "outputs": [
        {
          "output_type": "stream",
          "text": [
            "[12, 34, 5, 65, 12]\n"
          ],
          "name": "stdout"
        }
      ]
    },
    {
      "cell_type": "code",
      "metadata": {
        "id": "LF9iE1iCVrhi",
        "colab_type": "code",
        "colab": {
          "base_uri": "https://localhost:8080/",
          "height": 34
        },
        "outputId": "99bcb030-d557-4477-cc06-e33c1aebc0b6"
      },
      "source": [
        "#list.remove(x): x is a value inside the list\n",
        "#list.pop(x): x is an index\n",
        "list1 = [1,2,3,4,5]\n",
        "list1.pop() #pop without any argument will remove the last value for the list\n",
        "print(list1)"
      ],
      "execution_count": null,
      "outputs": [
        {
          "output_type": "stream",
          "text": [
            "[1, 2, 3, 4]\n"
          ],
          "name": "stdout"
        }
      ]
    },
    {
      "cell_type": "code",
      "metadata": {
        "id": "xmoxvJDPWLnd",
        "colab_type": "code",
        "colab": {
          "base_uri": "https://localhost:8080/",
          "height": 34
        },
        "outputId": "db2ed2d3-ac6a-4ec9-b610-f1ac29e6f0b9"
      },
      "source": [
        "list1 = [1,2,3,4]\n",
        "#list1.clear() #the same as del list1[:] both will give us an empty list\n",
        "#del list1[:]\n",
        "print(list1)"
      ],
      "execution_count": null,
      "outputs": [
        {
          "output_type": "stream",
          "text": [
            "[]\n"
          ],
          "name": "stdout"
        }
      ]
    },
    {
      "cell_type": "code",
      "metadata": {
        "id": "kr7E8e7uWfgw",
        "colab_type": "code",
        "colab": {
          "base_uri": "https://localhost:8080/",
          "height": 34
        },
        "outputId": "4c62154b-b7be-429f-c7f7-4f6db11771b8"
      },
      "source": [
        "list1 = [1,2,3,4,5] #the first index is 0 not 1\n",
        "print(\"the index of  1 is\",list1.index(1)) # will give you the position of your argument\n",
        "#and rise an error if it's not there\n"
      ],
      "execution_count": null,
      "outputs": [
        {
          "output_type": "stream",
          "text": [
            "the index of  1 is 0\n"
          ],
          "name": "stdout"
        }
      ]
    },
    {
      "cell_type": "code",
      "metadata": {
        "id": "Qj1AyOXIW7nF",
        "colab_type": "code",
        "colab": {
          "base_uri": "https://localhost:8080/",
          "height": 51
        },
        "outputId": "0aebb028-e86c-45ef-b2d6-a6b999a94596"
      },
      "source": [
        "list1 = [1,2,3,4,5]\n",
        "list2 = list1[::-1] #will give as a reversed list\n",
        "print(list2)\n",
        "list3 = list1.reverse()  #reverse (function) is the same as [::-1] (slicing)\n",
        "print(list1)"
      ],
      "execution_count": null,
      "outputs": [
        {
          "output_type": "stream",
          "text": [
            "[5, 4, 3, 2, 1]\n",
            "[5, 4, 3, 2, 1]\n"
          ],
          "name": "stdout"
        }
      ]
    },
    {
      "cell_type": "code",
      "metadata": {
        "id": "27WwliDpXc1C",
        "colab_type": "code",
        "colab": {
          "base_uri": "https://localhost:8080/",
          "height": 34
        },
        "outputId": "99cad1f8-6e5a-4f80-9223-e9e2db27f94a"
      },
      "source": [
        "list1 = [4,8,2,3,56]\n",
        "list1.sort(reverse = True) #By default reverse is equal to False\n",
        "print(list1)"
      ],
      "execution_count": null,
      "outputs": [
        {
          "output_type": "stream",
          "text": [
            "[56, 8, 4, 3, 2]\n"
          ],
          "name": "stdout"
        }
      ]
    },
    {
      "cell_type": "code",
      "metadata": {
        "id": "8I5EneqHXyWg",
        "colab_type": "code",
        "colab": {
          "base_uri": "https://localhost:8080/",
          "height": 34
        },
        "outputId": "44467bff-3ff2-4f22-9ad7-6815f7bf9466"
      },
      "source": [
        "list1 = [1,2,3,4]\n",
        "#list2 = list1.copy() # this is the same us list1[:]\n",
        "list2 = list1[:]\n",
        "print(list2)"
      ],
      "execution_count": null,
      "outputs": [
        {
          "output_type": "stream",
          "text": [
            "[1, 2, 3, 4]\n"
          ],
          "name": "stdout"
        }
      ]
    },
    {
      "cell_type": "code",
      "metadata": {
        "id": "e2hSq3ScPXHK",
        "colab_type": "code",
        "colab": {
          "base_uri": "https://localhost:8080/",
          "height": 102
        },
        "outputId": "b5283ba5-4e56-416a-ac8a-47980cb8b938"
      },
      "source": [
        "list1 = [1,2,3,4]\n",
        "#print(6 in list1) #will return True if 2 in list1, else it will return False\n",
        "\n",
        "list2 = list1 #we don't get the value of list1 in list2, instead we get all the reference\n",
        "#list2.append(1) #the append function will affect both\n",
        "print(list1)\n",
        "print(list2 is list1) #it will return True if both variable have the same reference\n",
        "\n",
        "list3 = list1.copy() #or list2 = list1[:], like that we will get only the value, not \n",
        "#the reference\n",
        "print(list3 is list1)\n",
        "print(list3)\n",
        "# in will check if you have the value inside your list\n",
        "# is will check if both variables are referencing the same object\n",
        "print(2 in list3)"
      ],
      "execution_count": null,
      "outputs": [
        {
          "output_type": "stream",
          "text": [
            "[1, 2, 3, 4]\n",
            "True\n",
            "False\n",
            "[1, 2, 3, 4]\n",
            "True\n"
          ],
          "name": "stdout"
        }
      ]
    },
    {
      "cell_type": "code",
      "metadata": {
        "id": "TaT-VVuYaTnL",
        "colab_type": "code",
        "colab": {
          "base_uri": "https://localhost:8080/",
          "height": 51
        },
        "outputId": "13aac3d3-39b5-4e8a-ee7e-6075757287bc"
      },
      "source": [
        "list1 = [3,4,5,6,7]\n",
        "if 8 in list1: #for the most of time, the intendation = 4 spaces\n",
        "  print(\"8 in list 1\") #an intented block\n",
        "elif 5 in list1:\n",
        "  print(\"the index of 5 is\", list1.index(5))\n",
        "  print(\"5 in list 1\")\n",
        "else: #this will only be executed if all the previous tests are False\n",
        "  print(\"8 is not there\")"
      ],
      "execution_count": null,
      "outputs": [
        {
          "output_type": "stream",
          "text": [
            "the index of 5 is 2\n",
            "5 in list 1\n"
          ],
          "name": "stdout"
        }
      ]
    },
    {
      "cell_type": "code",
      "metadata": {
        "id": "ZBav9nKlb6tC",
        "colab_type": "code",
        "colab": {}
      },
      "source": [
        ""
      ],
      "execution_count": null,
      "outputs": []
    },
    {
      "cell_type": "code",
      "metadata": {
        "id": "EsbRC1GAaW4e",
        "colab_type": "code",
        "colab": {}
      },
      "source": [
        "# x = y, assign the y variable inside x\n",
        "# x == y, check if x and y have the same value (True if it's, False if it's not)\n"
      ],
      "execution_count": null,
      "outputs": []
    },
    {
      "cell_type": "code",
      "metadata": {
        "id": "yOSkp5DhcuDJ",
        "colab_type": "code",
        "colab": {
          "base_uri": "https://localhost:8080/",
          "height": 51
        },
        "outputId": "8da0f555-8fe7-4a41-ffeb-4df4ffd832fb"
      },
      "source": [
        "list1 = [1,2,3,4,5]\n",
        "print(list1)\n",
        "for x in list1:\n",
        "  print(x,\"value\", sep=\"--\", end=\" \") #because the end argument has a new line value by default\n",
        "  #sep arg will only work if we have multiple values to print on the same print function\n"
      ],
      "execution_count": null,
      "outputs": [
        {
          "output_type": "stream",
          "text": [
            "[1, 2, 3, 4, 5]\n",
            "1--value 2--value 3--value 4--value 5--value "
          ],
          "name": "stdout"
        }
      ]
    },
    {
      "cell_type": "code",
      "metadata": {
        "id": "vRQKCtchdiKt",
        "colab_type": "code",
        "colab": {
          "base_uri": "https://localhost:8080/",
          "height": 119
        },
        "outputId": "02da029b-7619-4aca-c504-8c5dc276718d"
      },
      "source": [
        "list1 = [\"cat\", \"dog\", \"elephant\"]\n",
        "for x in list1:\n",
        "  print(len(x)) #len(x) = length of x variable, len(x) will give us the last index + 1\n",
        "  print(x[len(x)-1])"
      ],
      "execution_count": null,
      "outputs": [
        {
          "output_type": "stream",
          "text": [
            "3\n",
            "t\n",
            "3\n",
            "g\n",
            "8\n",
            "t\n"
          ],
          "name": "stdout"
        }
      ]
    },
    {
      "cell_type": "code",
      "metadata": {
        "id": "nKV633xreohZ",
        "colab_type": "code",
        "colab": {
          "base_uri": "https://localhost:8080/",
          "height": 187
        },
        "outputId": "46b8924b-6427-4e97-8e3c-abde78faf11c"
      },
      "source": [
        "for x in range(10):\n",
        "  print(x)"
      ],
      "execution_count": null,
      "outputs": [
        {
          "output_type": "stream",
          "text": [
            "0\n",
            "1\n",
            "2\n",
            "3\n",
            "4\n",
            "5\n",
            "6\n",
            "7\n",
            "8\n",
            "9\n"
          ],
          "name": "stdout"
        }
      ]
    },
    {
      "cell_type": "code",
      "metadata": {
        "id": "hh9I_UcSfY30",
        "colab_type": "code",
        "colab": {
          "base_uri": "https://localhost:8080/",
          "height": 85
        },
        "outputId": "e730460b-237f-44bc-f967-6fe5854e84cf"
      },
      "source": [
        "for x in range(2,10,2): #First variable is the starting point, second variable\n",
        "#is the end point minus one, the last variable will be the steps\n",
        "  print(x)"
      ],
      "execution_count": null,
      "outputs": [
        {
          "output_type": "stream",
          "text": [
            "2\n",
            "4\n",
            "6\n",
            "8\n"
          ],
          "name": "stdout"
        }
      ]
    },
    {
      "cell_type": "code",
      "metadata": {
        "id": "o7B71wyPgZS_",
        "colab_type": "code",
        "colab": {
          "base_uri": "https://localhost:8080/",
          "height": 34
        },
        "outputId": "142a976f-9210-418f-df27-4172b6c3652f"
      },
      "source": [
        "print(range(20))"
      ],
      "execution_count": null,
      "outputs": [
        {
          "output_type": "stream",
          "text": [
            "range(0, 20)\n"
          ],
          "name": "stdout"
        }
      ]
    },
    {
      "cell_type": "code",
      "metadata": {
        "id": "SX15kjqsgt28",
        "colab_type": "code",
        "colab": {
          "base_uri": "https://localhost:8080/",
          "height": 68
        },
        "outputId": "8763c42b-33ad-4b10-e3eb-2f007ad6b944"
      },
      "source": [
        "#the difference between break and continue\n",
        "for i in range(5):\n",
        "  if(i==2):\n",
        "    break #continue will just jump to the next iteration\n",
        "  print(i)\n",
        "\n",
        "print(\"I get out\")"
      ],
      "execution_count": null,
      "outputs": [
        {
          "output_type": "stream",
          "text": [
            "0\n",
            "1\n",
            "I get out\n"
          ],
          "name": "stdout"
        }
      ]
    },
    {
      "cell_type": "code",
      "metadata": {
        "id": "3iT9E8QPh7S3",
        "colab_type": "code",
        "colab": {
          "base_uri": "https://localhost:8080/",
          "height": 357
        },
        "outputId": "9b93964a-eb2a-47b9-8e7f-10eea44d618e"
      },
      "source": [
        "for i in range(10): #the first value is 0 [0,1,2,3,4,5,6,7,8,9]\n",
        "  for n in range(i):# for n in range(0): will not be entered, range(1) : [0,1]\n",
        "    print(n, end=\" \")\n",
        "  print(\"\\nthe next iteration\")"
      ],
      "execution_count": null,
      "outputs": [
        {
          "output_type": "stream",
          "text": [
            "\n",
            "the next iteration\n",
            "0 \n",
            "the next iteration\n",
            "0 1 \n",
            "the next iteration\n",
            "0 1 2 \n",
            "the next iteration\n",
            "0 1 2 3 \n",
            "the next iteration\n",
            "0 1 2 3 4 \n",
            "the next iteration\n",
            "0 1 2 3 4 5 \n",
            "the next iteration\n",
            "0 1 2 3 4 5 6 \n",
            "the next iteration\n",
            "0 1 2 3 4 5 6 7 \n",
            "the next iteration\n",
            "0 1 2 3 4 5 6 7 8 \n",
            "the next iteration\n"
          ],
          "name": "stdout"
        }
      ]
    },
    {
      "cell_type": "code",
      "metadata": {
        "id": "vKaEYqa6jsNy",
        "colab_type": "code",
        "colab": {
          "base_uri": "https://localhost:8080/",
          "height": 85
        },
        "outputId": "155954bf-4705-4075-f35c-fdfd8e33a6f1"
      },
      "source": [
        "str1 = \"1\"\n",
        "int1 = int(str1)\n",
        "print(type(int1))\n",
        "\n",
        "str2 = \"\" #all the empty variable are False\n",
        "#all the other variable are True\n",
        "bool1 = bool(str2)\n",
        "print(type(bool1))\n",
        "print(bool1)\n",
        "str3 = \"anything\"\n",
        "bool2 = bool(str3)\n",
        "print(bool2)"
      ],
      "execution_count": null,
      "outputs": [
        {
          "output_type": "stream",
          "text": [
            "<class 'int'>\n",
            "<class 'bool'>\n",
            "False\n",
            "True\n"
          ],
          "name": "stdout"
        }
      ]
    }
  ]
}